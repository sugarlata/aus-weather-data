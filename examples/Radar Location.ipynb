{
 "cells": [
  {
   "cell_type": "markdown",
   "id": "208c7ce5-4d17-4838-8ea5-6b74f32ee962",
   "metadata": {},
   "source": [
    "# Radar Locations Module\n",
    "\n",
    "Here are some examples of how to use the Radar Location module of the aus_weather_data package."
   ]
  },
  {
   "cell_type": "markdown",
   "id": "3a043721-b534-45a4-a713-48554e17ee30",
   "metadata": {},
   "source": [
    "First, import specific modules from the package"
   ]
  },
  {
   "cell_type": "code",
   "execution_count": null,
   "id": "59027c3d-d83f-4a3b-8574-a0f5f2729f81",
   "metadata": {},
   "outputs": [],
   "source": [
    "from aus_weather_data import BOMRadarLocation, RADAR_TYPE"
   ]
  },
  {
   "cell_type": "markdown",
   "id": "03fe7180-28cd-44b2-b5e5-8020010650c9",
   "metadata": {},
   "source": [
    "`RADAR_TYPE` is an enumeration of the different radar types available. It is used by multiple functions in the BOMRadarLocation class.\n",
    "\n",
    "The radar types are:"
   ]
  },
  {
   "cell_type": "code",
   "execution_count": 19,
   "id": "08873d36-8d19-48af-9ae7-915777cbd903",
   "metadata": {},
   "outputs": [
    {
     "data": {
      "text/plain": [
       "[('REF_64_KM', <RADAR_TYPE.REF_64_KM: '4'>),\n",
       " ('REF_128_KM', <RADAR_TYPE.REF_128_KM: '3'>),\n",
       " ('REF_256_KM', <RADAR_TYPE.REF_256_KM: '2'>),\n",
       " ('REF_512_KM', <RADAR_TYPE.REF_512_KM: '1'>),\n",
       " ('VEL_128_KM', <RADAR_TYPE.VEL_128_KM: 'I'>),\n",
       " ('RAI_128_KM_5M', <RADAR_TYPE.RAI_128_KM_5M: 'A'>),\n",
       " ('RAI_128_KM_1H', <RADAR_TYPE.RAI_128_KM_1H: 'B'>),\n",
       " ('RAI_128_KM_9AM', <RADAR_TYPE.RAI_128_KM_9AM: 'C'>),\n",
       " ('RAI_128_KM_24H', <RADAR_TYPE.RAI_128_KM_24H: 'D'>)]"
      ]
     },
     "execution_count": 19,
     "metadata": {},
     "output_type": "execute_result"
    }
   ],
   "source": [
    "[(x.name, x) for x in RADAR_TYPE]"
   ]
  },
  {
   "cell_type": "markdown",
   "id": "f97292fc-cc43-4d02-83bd-0735a26ffae8",
   "metadata": {},
   "source": [
    "Inside the BOMRadarLocation class are the individual locations. These are mapped by their IDR value.\n",
    "\n",
    "For example, Melbourne Laverton Radar"
   ]
  },
  {
   "cell_type": "code",
   "execution_count": 11,
   "id": "e7238cae-f56c-4ea9-80f3-db167b0be316",
   "metadata": {},
   "outputs": [
    {
     "data": {
      "text/plain": [
       "aus_weather_data.radar.location.BOMRadarLocation.IDR02"
      ]
     },
     "execution_count": 11,
     "metadata": {},
     "output_type": "execute_result"
    }
   ],
   "source": [
    "BOMRadarLocation.IDR02"
   ]
  },
  {
   "cell_type": "markdown",
   "id": "d6b6b54c-03ea-439d-93c6-114384872dae",
   "metadata": {},
   "source": [
    "There are multiple methods that can be called for each location:\n",
    "\n",
    "- location (give the lat,lon coords of the radar)\n",
    "- name (gives the friendly name of the radar)\n",
    "- radar_range (gives the bounding box of the radar in the order North West -> North East -> South East -> South West)"
   ]
  },
  {
   "cell_type": "code",
   "execution_count": 12,
   "id": "5ac5490e-8cdb-4d08-95cb-2aa0d0f013a7",
   "metadata": {},
   "outputs": [
    {
     "data": {
      "text/plain": [
       "(-37.86, 144.76)"
      ]
     },
     "execution_count": 12,
     "metadata": {},
     "output_type": "execute_result"
    }
   ],
   "source": [
    "BOMRadarLocation.IDR02.location()"
   ]
  },
  {
   "cell_type": "code",
   "execution_count": null,
   "id": "6d3bb42a-8fe5-42fc-a240-029cedceb78e",
   "metadata": {},
   "outputs": [],
   "source": [
    "BOMRadarLocation.IDR02.name()"
   ]
  },
  {
   "cell_type": "code",
   "execution_count": 20,
   "id": "0bc4a7d9-39ab-4ff8-ad4c-34d3f6a21b65",
   "metadata": {},
   "outputs": [
    {
     "data": {
      "text/plain": [
       "((-36.71014976596878, 143.30371324815167),\n",
       " (-36.71014976596878, 146.2162867518483),\n",
       " (-39.00985023403122, 146.2162867518483),\n",
       " (-39.00985023403122, 143.30371324815167))"
      ]
     },
     "execution_count": 20,
     "metadata": {},
     "output_type": "execute_result"
    }
   ],
   "source": [
    "BOMRadarLocation.IDR02.radar_range(RADAR_TYPE.REF_128_KM)"
   ]
  }
 ],
 "metadata": {
  "kernelspec": {
   "display_name": ".venv",
   "language": "python",
   "name": "python3"
  },
  "language_info": {
   "codemirror_mode": {
    "name": "ipython",
    "version": 3
   },
   "file_extension": ".py",
   "mimetype": "text/x-python",
   "name": "python",
   "nbconvert_exporter": "python",
   "pygments_lexer": "ipython3",
   "version": "3.8.10"
  }
 },
 "nbformat": 4,
 "nbformat_minor": 5
}
